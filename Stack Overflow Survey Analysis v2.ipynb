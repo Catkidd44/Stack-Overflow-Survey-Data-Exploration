{
 "cells": [
  {
   "cell_type": "code",
   "execution_count": 1,
   "id": "4f8de3cc",
   "metadata": {},
   "outputs": [],
   "source": [
    "## The purpose fo this project is to Analyse Data and provide insights\n",
    "## Stack Overflow Dev Survey 2023"
   ]
  },
  {
   "cell_type": "markdown",
   "id": "81d92a57",
   "metadata": {},
   "source": [
    "## Stack Overflow Devs. Survey 2023"
   ]
  },
  {
   "cell_type": "code",
   "execution_count": 2,
   "id": "aed4e580",
   "metadata": {},
   "outputs": [],
   "source": [
    "import pandas as pd\n",
    "import seaborn as sns\n",
    "# Create a visualization to explore the data\n",
    "import matplotlib.pyplot as plt\n",
    "# Create a visualization to explore the data\n",
    "%matplotlib inline"
   ]
  },
  {
   "cell_type": "code",
   "execution_count": 3,
   "id": "841046b7",
   "metadata": {},
   "outputs": [
    {
     "name": "stdout",
     "output_type": "stream",
     "text": [
      "Dataset URL: https://www.kaggle.com/datasets/stackoverflow/stack-overflow-2023-developers-survey"
     ]
    },
    {
     "name": "stderr",
     "output_type": "stream",
     "text": [
      "\n",
      "  0%|          | 0.00/20.5M [00:00<?, ?B/s]\n",
      "  5%|4         | 1.00M/20.5M [00:00<00:05, 3.71MB/s]\n",
      " 15%|#4        | 3.00M/20.5M [00:00<00:02, 8.78MB/s]\n",
      " 29%|##9       | 6.00M/20.5M [00:00<00:01, 13.4MB/s]\n",
      " 49%|####8     | 10.0M/20.5M [00:00<00:00, 19.1MB/s]\n",
      " 64%|######3   | 13.0M/20.5M [00:00<00:00, 16.5MB/s]\n",
      " 73%|#######3  | 15.0M/20.5M [00:01<00:00, 16.1MB/s]\n",
      " 83%|########3 | 17.0M/20.5M [00:01<00:00, 15.7MB/s]\n",
      " 93%|#########2| 19.0M/20.5M [00:01<00:00, 15.5MB/s]\n",
      "100%|##########| 20.5M/20.5M [00:01<00:00, 15.2MB/s]\n"
     ]
    },
    {
     "name": "stdout",
     "output_type": "stream",
     "text": [
      "\n",
      "License(s): unknown\n",
      "Downloading stack-overflow-2023-developers-survey.zip to C:\\Users\\Thomas Breton\\Portfolio Projects\\Stack Overflow Developer Survey\n",
      "\n"
     ]
    }
   ],
   "source": [
    "!kaggle datasets download -d stackoverflow/stack-overflow-2023-developers-survey"
   ]
  },
  {
   "cell_type": "code",
   "execution_count": 4,
   "id": "5088c586",
   "metadata": {},
   "outputs": [],
   "source": [
    "import zipfile\n",
    "\n",
    "with zipfile.ZipFile(\"stack-overflow-2023-developers-survey.zip\", \"r\") as zip_ref:\n",
    "    zip_ref.extractall(\"stackoverflow_survey_2023\")"
   ]
  },
  {
   "cell_type": "code",
   "execution_count": 5,
   "id": "2d9b20e5",
   "metadata": {},
   "outputs": [],
   "source": [
    "# Load the dataset\n",
    "df = pd.read_csv(\"stackoverflow_survey_2023/survey_results_public.csv\")"
   ]
  },
  {
   "cell_type": "code",
   "execution_count": 6,
   "id": "7ee61fe0",
   "metadata": {},
   "outputs": [
    {
     "data": {
      "text/html": [
       "<div>\n",
       "<style scoped>\n",
       "    .dataframe tbody tr th:only-of-type {\n",
       "        vertical-align: middle;\n",
       "    }\n",
       "\n",
       "    .dataframe tbody tr th {\n",
       "        vertical-align: top;\n",
       "    }\n",
       "\n",
       "    .dataframe thead th {\n",
       "        text-align: right;\n",
       "    }\n",
       "</style>\n",
       "<table border=\"1\" class=\"dataframe\">\n",
       "  <thead>\n",
       "    <tr style=\"text-align: right;\">\n",
       "      <th></th>\n",
       "      <th>ResponseId</th>\n",
       "      <th>Q120</th>\n",
       "      <th>MainBranch</th>\n",
       "      <th>Age</th>\n",
       "      <th>Employment</th>\n",
       "      <th>RemoteWork</th>\n",
       "      <th>CodingActivities</th>\n",
       "      <th>EdLevel</th>\n",
       "      <th>LearnCode</th>\n",
       "      <th>LearnCodeOnline</th>\n",
       "      <th>...</th>\n",
       "      <th>Frequency_1</th>\n",
       "      <th>Frequency_2</th>\n",
       "      <th>Frequency_3</th>\n",
       "      <th>TimeSearching</th>\n",
       "      <th>TimeAnswering</th>\n",
       "      <th>ProfessionalTech</th>\n",
       "      <th>Industry</th>\n",
       "      <th>SurveyLength</th>\n",
       "      <th>SurveyEase</th>\n",
       "      <th>ConvertedCompYearly</th>\n",
       "    </tr>\n",
       "  </thead>\n",
       "  <tbody>\n",
       "    <tr>\n",
       "      <th>0</th>\n",
       "      <td>1</td>\n",
       "      <td>I agree</td>\n",
       "      <td>None of these</td>\n",
       "      <td>18-24 years old</td>\n",
       "      <td>NaN</td>\n",
       "      <td>NaN</td>\n",
       "      <td>NaN</td>\n",
       "      <td>NaN</td>\n",
       "      <td>NaN</td>\n",
       "      <td>NaN</td>\n",
       "      <td>...</td>\n",
       "      <td>NaN</td>\n",
       "      <td>NaN</td>\n",
       "      <td>NaN</td>\n",
       "      <td>NaN</td>\n",
       "      <td>NaN</td>\n",
       "      <td>NaN</td>\n",
       "      <td>NaN</td>\n",
       "      <td>NaN</td>\n",
       "      <td>NaN</td>\n",
       "      <td>NaN</td>\n",
       "    </tr>\n",
       "    <tr>\n",
       "      <th>1</th>\n",
       "      <td>2</td>\n",
       "      <td>I agree</td>\n",
       "      <td>I am a developer by profession</td>\n",
       "      <td>25-34 years old</td>\n",
       "      <td>Employed, full-time</td>\n",
       "      <td>Remote</td>\n",
       "      <td>Hobby;Contribute to open-source projects;Boots...</td>\n",
       "      <td>Bachelor’s degree (B.A., B.S., B.Eng., etc.)</td>\n",
       "      <td>Books / Physical media;Colleague;Friend or fam...</td>\n",
       "      <td>Formal documentation provided by the owner of ...</td>\n",
       "      <td>...</td>\n",
       "      <td>1-2 times a week</td>\n",
       "      <td>10+ times a week</td>\n",
       "      <td>Never</td>\n",
       "      <td>15-30 minutes a day</td>\n",
       "      <td>15-30 minutes a day</td>\n",
       "      <td>DevOps function;Microservices;Automated testin...</td>\n",
       "      <td>Information Services, IT, Software Development...</td>\n",
       "      <td>Appropriate in length</td>\n",
       "      <td>Easy</td>\n",
       "      <td>285000.0</td>\n",
       "    </tr>\n",
       "    <tr>\n",
       "      <th>2</th>\n",
       "      <td>3</td>\n",
       "      <td>I agree</td>\n",
       "      <td>I am a developer by profession</td>\n",
       "      <td>45-54 years old</td>\n",
       "      <td>Employed, full-time</td>\n",
       "      <td>Hybrid (some remote, some in-person)</td>\n",
       "      <td>Hobby;Professional development or self-paced l...</td>\n",
       "      <td>Bachelor’s degree (B.A., B.S., B.Eng., etc.)</td>\n",
       "      <td>Books / Physical media;Colleague;On the job tr...</td>\n",
       "      <td>Formal documentation provided by the owner of ...</td>\n",
       "      <td>...</td>\n",
       "      <td>6-10 times a week</td>\n",
       "      <td>6-10 times a week</td>\n",
       "      <td>3-5 times a week</td>\n",
       "      <td>30-60 minutes a day</td>\n",
       "      <td>30-60 minutes a day</td>\n",
       "      <td>DevOps function;Microservices;Automated testin...</td>\n",
       "      <td>Information Services, IT, Software Development...</td>\n",
       "      <td>Appropriate in length</td>\n",
       "      <td>Easy</td>\n",
       "      <td>250000.0</td>\n",
       "    </tr>\n",
       "    <tr>\n",
       "      <th>3</th>\n",
       "      <td>4</td>\n",
       "      <td>I agree</td>\n",
       "      <td>I am a developer by profession</td>\n",
       "      <td>25-34 years old</td>\n",
       "      <td>Employed, full-time</td>\n",
       "      <td>Hybrid (some remote, some in-person)</td>\n",
       "      <td>Hobby</td>\n",
       "      <td>Bachelor’s degree (B.A., B.S., B.Eng., etc.)</td>\n",
       "      <td>Colleague;Friend or family member;Other online...</td>\n",
       "      <td>Formal documentation provided by the owner of ...</td>\n",
       "      <td>...</td>\n",
       "      <td>1-2 times a week</td>\n",
       "      <td>10+ times a week</td>\n",
       "      <td>1-2 times a week</td>\n",
       "      <td>15-30 minutes a day</td>\n",
       "      <td>30-60 minutes a day</td>\n",
       "      <td>Automated testing;Continuous integration (CI) ...</td>\n",
       "      <td>NaN</td>\n",
       "      <td>Appropriate in length</td>\n",
       "      <td>Easy</td>\n",
       "      <td>156000.0</td>\n",
       "    </tr>\n",
       "    <tr>\n",
       "      <th>4</th>\n",
       "      <td>5</td>\n",
       "      <td>I agree</td>\n",
       "      <td>I am a developer by profession</td>\n",
       "      <td>25-34 years old</td>\n",
       "      <td>Employed, full-time;Independent contractor, fr...</td>\n",
       "      <td>Remote</td>\n",
       "      <td>Hobby;Contribute to open-source projects;Profe...</td>\n",
       "      <td>Bachelor’s degree (B.A., B.S., B.Eng., etc.)</td>\n",
       "      <td>Books / Physical media;Online Courses or Certi...</td>\n",
       "      <td>Formal documentation provided by the owner of ...</td>\n",
       "      <td>...</td>\n",
       "      <td>1-2 times a week</td>\n",
       "      <td>1-2 times a week</td>\n",
       "      <td>3-5 times a week</td>\n",
       "      <td>60-120 minutes a day</td>\n",
       "      <td>30-60 minutes a day</td>\n",
       "      <td>Microservices;Automated testing;Observability ...</td>\n",
       "      <td>Other</td>\n",
       "      <td>Appropriate in length</td>\n",
       "      <td>Neither easy nor difficult</td>\n",
       "      <td>23456.0</td>\n",
       "    </tr>\n",
       "  </tbody>\n",
       "</table>\n",
       "<p>5 rows × 84 columns</p>\n",
       "</div>"
      ],
      "text/plain": [
       "   ResponseId     Q120                      MainBranch              Age  \\\n",
       "0           1  I agree                   None of these  18-24 years old   \n",
       "1           2  I agree  I am a developer by profession  25-34 years old   \n",
       "2           3  I agree  I am a developer by profession  45-54 years old   \n",
       "3           4  I agree  I am a developer by profession  25-34 years old   \n",
       "4           5  I agree  I am a developer by profession  25-34 years old   \n",
       "\n",
       "                                          Employment  \\\n",
       "0                                                NaN   \n",
       "1                                Employed, full-time   \n",
       "2                                Employed, full-time   \n",
       "3                                Employed, full-time   \n",
       "4  Employed, full-time;Independent contractor, fr...   \n",
       "\n",
       "                             RemoteWork  \\\n",
       "0                                   NaN   \n",
       "1                                Remote   \n",
       "2  Hybrid (some remote, some in-person)   \n",
       "3  Hybrid (some remote, some in-person)   \n",
       "4                                Remote   \n",
       "\n",
       "                                    CodingActivities  \\\n",
       "0                                                NaN   \n",
       "1  Hobby;Contribute to open-source projects;Boots...   \n",
       "2  Hobby;Professional development or self-paced l...   \n",
       "3                                              Hobby   \n",
       "4  Hobby;Contribute to open-source projects;Profe...   \n",
       "\n",
       "                                        EdLevel  \\\n",
       "0                                           NaN   \n",
       "1  Bachelor’s degree (B.A., B.S., B.Eng., etc.)   \n",
       "2  Bachelor’s degree (B.A., B.S., B.Eng., etc.)   \n",
       "3  Bachelor’s degree (B.A., B.S., B.Eng., etc.)   \n",
       "4  Bachelor’s degree (B.A., B.S., B.Eng., etc.)   \n",
       "\n",
       "                                           LearnCode  \\\n",
       "0                                                NaN   \n",
       "1  Books / Physical media;Colleague;Friend or fam...   \n",
       "2  Books / Physical media;Colleague;On the job tr...   \n",
       "3  Colleague;Friend or family member;Other online...   \n",
       "4  Books / Physical media;Online Courses or Certi...   \n",
       "\n",
       "                                     LearnCodeOnline  ...        Frequency_1  \\\n",
       "0                                                NaN  ...                NaN   \n",
       "1  Formal documentation provided by the owner of ...  ...   1-2 times a week   \n",
       "2  Formal documentation provided by the owner of ...  ...  6-10 times a week   \n",
       "3  Formal documentation provided by the owner of ...  ...   1-2 times a week   \n",
       "4  Formal documentation provided by the owner of ...  ...   1-2 times a week   \n",
       "\n",
       "         Frequency_2       Frequency_3         TimeSearching  \\\n",
       "0                NaN               NaN                   NaN   \n",
       "1   10+ times a week             Never   15-30 minutes a day   \n",
       "2  6-10 times a week  3-5 times a week   30-60 minutes a day   \n",
       "3   10+ times a week  1-2 times a week   15-30 minutes a day   \n",
       "4   1-2 times a week  3-5 times a week  60-120 minutes a day   \n",
       "\n",
       "         TimeAnswering                                   ProfessionalTech  \\\n",
       "0                  NaN                                                NaN   \n",
       "1  15-30 minutes a day  DevOps function;Microservices;Automated testin...   \n",
       "2  30-60 minutes a day  DevOps function;Microservices;Automated testin...   \n",
       "3  30-60 minutes a day  Automated testing;Continuous integration (CI) ...   \n",
       "4  30-60 minutes a day  Microservices;Automated testing;Observability ...   \n",
       "\n",
       "                                            Industry           SurveyLength  \\\n",
       "0                                                NaN                    NaN   \n",
       "1  Information Services, IT, Software Development...  Appropriate in length   \n",
       "2  Information Services, IT, Software Development...  Appropriate in length   \n",
       "3                                                NaN  Appropriate in length   \n",
       "4                                              Other  Appropriate in length   \n",
       "\n",
       "                   SurveyEase ConvertedCompYearly  \n",
       "0                         NaN                 NaN  \n",
       "1                        Easy            285000.0  \n",
       "2                        Easy            250000.0  \n",
       "3                        Easy            156000.0  \n",
       "4  Neither easy nor difficult             23456.0  \n",
       "\n",
       "[5 rows x 84 columns]"
      ]
     },
     "execution_count": 6,
     "metadata": {},
     "output_type": "execute_result"
    }
   ],
   "source": [
    "df.head(5)"
   ]
  },
  {
   "cell_type": "code",
   "execution_count": 7,
   "id": "4fcb9221",
   "metadata": {},
   "outputs": [
    {
     "data": {
      "text/plain": [
       "Index(['ResponseId', 'Q120', 'MainBranch', 'Age', 'Employment', 'RemoteWork',\n",
       "       'CodingActivities', 'EdLevel', 'LearnCode', 'LearnCodeOnline',\n",
       "       'LearnCodeCoursesCert', 'YearsCode', 'YearsCodePro', 'DevType',\n",
       "       'OrgSize', 'PurchaseInfluence', 'TechList', 'BuyNewTool', 'Country',\n",
       "       'Currency', 'CompTotal', 'LanguageHaveWorkedWith',\n",
       "       'LanguageWantToWorkWith', 'DatabaseHaveWorkedWith',\n",
       "       'DatabaseWantToWorkWith', 'PlatformHaveWorkedWith',\n",
       "       'PlatformWantToWorkWith', 'WebframeHaveWorkedWith',\n",
       "       'WebframeWantToWorkWith', 'MiscTechHaveWorkedWith',\n",
       "       'MiscTechWantToWorkWith', 'ToolsTechHaveWorkedWith',\n",
       "       'ToolsTechWantToWorkWith', 'NEWCollabToolsHaveWorkedWith',\n",
       "       'NEWCollabToolsWantToWorkWith', 'OpSysPersonal use',\n",
       "       'OpSysProfessional use', 'OfficeStackAsyncHaveWorkedWith',\n",
       "       'OfficeStackAsyncWantToWorkWith', 'OfficeStackSyncHaveWorkedWith',\n",
       "       'OfficeStackSyncWantToWorkWith', 'AISearchHaveWorkedWith',\n",
       "       'AISearchWantToWorkWith', 'AIDevHaveWorkedWith', 'AIDevWantToWorkWith',\n",
       "       'NEWSOSites', 'SOVisitFreq', 'SOAccount', 'SOPartFreq', 'SOComm',\n",
       "       'SOAI', 'AISelect', 'AISent', 'AIAcc', 'AIBen',\n",
       "       'AIToolInterested in Using', 'AIToolCurrently Using',\n",
       "       'AIToolNot interested in Using', 'AINextVery different',\n",
       "       'AINextNeither different nor similar', 'AINextSomewhat similar',\n",
       "       'AINextVery similar', 'AINextSomewhat different', 'TBranch', 'ICorPM',\n",
       "       'WorkExp', 'Knowledge_1', 'Knowledge_2', 'Knowledge_3', 'Knowledge_4',\n",
       "       'Knowledge_5', 'Knowledge_6', 'Knowledge_7', 'Knowledge_8',\n",
       "       'Frequency_1', 'Frequency_2', 'Frequency_3', 'TimeSearching',\n",
       "       'TimeAnswering', 'ProfessionalTech', 'Industry', 'SurveyLength',\n",
       "       'SurveyEase', 'ConvertedCompYearly'],\n",
       "      dtype='object')"
      ]
     },
     "execution_count": 7,
     "metadata": {},
     "output_type": "execute_result"
    }
   ],
   "source": [
    "df.columns"
   ]
  },
  {
   "cell_type": "markdown",
   "id": "11f5c30a",
   "metadata": {},
   "source": [
    "## Data Exploration"
   ]
  },
  {
   "cell_type": "code",
   "execution_count": 8,
   "id": "e95fd5c1",
   "metadata": {},
   "outputs": [
    {
     "data": {
      "text/plain": [
       "103110.08171765343"
      ]
     },
     "execution_count": 8,
     "metadata": {},
     "output_type": "execute_result"
    }
   ],
   "source": [
    "## Avg Comp for Devs, around 103k\n",
    "df['ConvertedCompYearly'].mean()"
   ]
  },
  {
   "cell_type": "code",
   "execution_count": 14,
   "id": "3b20a67a",
   "metadata": {},
   "outputs": [
    {
     "data": {
      "text/plain": [
       "Industry\n",
       "Other                                                                  124288.992366\n",
       "Financial Services                                                     123977.345539\n",
       "Advertising Services                                                   112730.652033\n",
       "Healthcare                                                             103571.103408\n",
       "Insurance                                                              100366.450435\n",
       "Retail and Consumer Services                                            98211.981959\n",
       "Information Services, IT, Software Development, or other Technology     94924.338332\n",
       "Manufacturing, Transportation, or Supply Chain                          89943.515242\n",
       "Oil & Gas                                                               88982.888889\n",
       "Legal Services                                                          88300.562130\n",
       "Higher Education                                                        72076.873126\n",
       "Wholesale                                                               71881.676471\n",
       "Name: ConvertedCompYearly, dtype: float64"
      ]
     },
     "execution_count": 14,
     "metadata": {},
     "output_type": "execute_result"
    }
   ],
   "source": [
    "## Which Industries pay the most\n",
    "# Group data by a specific category to analyze patterns\n",
    "Industry_pay = df.groupby('Industry')['ConvertedCompYearly'].mean()\n",
    "Industry_pay\n",
    "Industry_pay.sort_values(ascending=False)\n",
    "## Other, followed by Financial Services and Adv pays the most\n",
    "## Wholesale pays the least"
   ]
  },
  {
   "cell_type": "code",
   "execution_count": 19,
   "id": "10a8b737",
   "metadata": {},
   "outputs": [
    {
     "data": {
      "text/plain": [
       "United States of America                                18647\n",
       "Germany                                                  7328\n",
       "India                                                    5625\n",
       "United Kingdom of Great Britain and Northern Ireland     5552\n",
       "Canada                                                   3507\n",
       "                                                        ...  \n",
       "Saint Kitts and Nevis                                       1\n",
       "Marshall Islands                                            1\n",
       "Samoa                                                       1\n",
       "Central African Republic                                    1\n",
       "San Marino                                                  1\n",
       "Name: Country, Length: 185, dtype: int64"
      ]
     },
     "execution_count": 19,
     "metadata": {},
     "output_type": "execute_result"
    }
   ],
   "source": [
    "## Countries with the most entries\n",
    "df['Country'].value_counts()\n",
    "## US, Germany and India had the most reponses"
   ]
  },
  {
   "cell_type": "code",
   "execution_count": 20,
   "id": "788138d2",
   "metadata": {},
   "outputs": [
    {
     "data": {
      "text/plain": [
       "WorkExp\n",
       "0.0      39379.230769\n",
       "1.0      47992.934976\n",
       "2.0      48526.032813\n",
       "3.0      56865.129817\n",
       "4.0      64470.906631\n",
       "5.0      76638.329947\n",
       "6.0      79287.526374\n",
       "7.0     128084.798315\n",
       "8.0      92707.808357\n",
       "9.0      94860.748482\n",
       "10.0    100223.137709\n",
       "11.0    104072.614002\n",
       "12.0    104290.352983\n",
       "13.0    109533.362196\n",
       "14.0    109630.415452\n",
       "15.0    107109.302234\n",
       "16.0    119476.888071\n",
       "17.0    129992.385084\n",
       "18.0    119214.833613\n",
       "19.0    121236.895307\n",
       "20.0    112534.534062\n",
       "21.0    120811.612782\n",
       "22.0    128720.490099\n",
       "23.0    128012.723881\n",
       "24.0    117451.592357\n",
       "25.0    201670.508314\n",
       "26.0    136734.953307\n",
       "27.0    476949.452830\n",
       "28.0    135130.298969\n",
       "29.0    165846.118280\n",
       "30.0    125677.604215\n",
       "31.0    122321.731183\n",
       "32.0    132069.403509\n",
       "33.0    126439.408333\n",
       "34.0    131380.587500\n",
       "35.0    172928.422886\n",
       "36.0    131482.795699\n",
       "37.0    137044.458333\n",
       "38.0    107270.069444\n",
       "39.0    153145.600000\n",
       "40.0    211259.186047\n",
       "41.0    106318.177778\n",
       "42.0    148616.290323\n",
       "43.0    214052.870968\n",
       "44.0    135931.312500\n",
       "45.0    193268.861111\n",
       "46.0    101522.166667\n",
       "47.0    172062.200000\n",
       "48.0    173220.333333\n",
       "49.0    139740.750000\n",
       "50.0    163095.707317\n",
       "Name: ConvertedCompYearly, dtype: float64"
      ]
     },
     "execution_count": 20,
     "metadata": {},
     "output_type": "execute_result"
    }
   ],
   "source": [
    "# Group data by a specific category to analyze patterns\n",
    "df.groupby('WorkExp')['ConvertedCompYearly'].mean()\n",
    "## Years of experience matter, but there are some clear outliers"
   ]
  },
  {
   "cell_type": "code",
   "execution_count": 30,
   "id": "a17dd5d7",
   "metadata": {},
   "outputs": [
    {
     "data": {
      "text/plain": [
       "45605"
      ]
     },
     "execution_count": 30,
     "metadata": {},
     "output_type": "execute_result"
    }
   ],
   "source": [
    "## I should have checked for missing values in both variables\n",
    "df['WorkExp'].isnull().sum()"
   ]
  },
  {
   "cell_type": "code",
   "execution_count": 31,
   "id": "6a3927ca",
   "metadata": {},
   "outputs": [
    {
     "data": {
      "text/plain": [
       "41165"
      ]
     },
     "execution_count": 31,
     "metadata": {},
     "output_type": "execute_result"
    }
   ],
   "source": [
    "df['ConvertedCompYearly'].isnull().sum()"
   ]
  },
  {
   "cell_type": "code",
   "execution_count": 34,
   "id": "d7ef15b3",
   "metadata": {},
   "outputs": [
    {
     "data": {
      "text/plain": [
       "0         9.0\n",
       "1        10.0\n",
       "2        23.0\n",
       "3         7.0\n",
       "4         6.0\n",
       "         ... \n",
       "89179     9.0\n",
       "89180     9.0\n",
       "89181     9.0\n",
       "89182     9.0\n",
       "89183    14.0\n",
       "Name: WorkExp, Length: 89184, dtype: float64"
      ]
     },
     "execution_count": 34,
     "metadata": {},
     "output_type": "execute_result"
    }
   ],
   "source": [
    "## I will reasonably filled the missing values with the median\n",
    "df['WorkExp'].fillna(df['WorkExp'].median())"
   ]
  },
  {
   "cell_type": "code",
   "execution_count": 35,
   "id": "f1fcf71c",
   "metadata": {},
   "outputs": [
    {
     "data": {
      "text/plain": [
       "0         74963.0\n",
       "1        285000.0\n",
       "2        250000.0\n",
       "3        156000.0\n",
       "4         23456.0\n",
       "           ...   \n",
       "89179     74963.0\n",
       "89180     74963.0\n",
       "89181     74963.0\n",
       "89182     74963.0\n",
       "89183     74963.0\n",
       "Name: ConvertedCompYearly, Length: 89184, dtype: float64"
      ]
     },
     "execution_count": 35,
     "metadata": {},
     "output_type": "execute_result"
    }
   ],
   "source": [
    "df['ConvertedCompYearly'].fillna(df['ConvertedCompYearly'].median())"
   ]
  },
  {
   "cell_type": "code",
   "execution_count": 38,
   "id": "fd8332df",
   "metadata": {},
   "outputs": [],
   "source": [
    "import numpy as np"
   ]
  },
  {
   "cell_type": "markdown",
   "id": "ab7a71d4",
   "metadata": {},
   "source": [
    "## Insights Using Data"
   ]
  },
  {
   "cell_type": "code",
   "execution_count": 42,
   "id": "c0d1b489",
   "metadata": {},
   "outputs": [
    {
     "data": {
      "text/plain": [
       "0.04607837551225553"
      ]
     },
     "execution_count": 42,
     "metadata": {},
     "output_type": "execute_result"
    }
   ],
   "source": [
    "correlation = df['ConvertedCompYearly'].corr(df['WorkExp'])\n",
    "correlation\n",
    "## correlation is not super strong, may due to outliers"
   ]
  },
  {
   "cell_type": "code",
   "execution_count": 50,
   "id": "09a8efa2",
   "metadata": {},
   "outputs": [
    {
     "data": {
      "text/plain": [
       "0                                                      NaN\n",
       "1        Books / Physical media;Colleague;Friend or fam...\n",
       "2        Books / Physical media;Colleague;On the job tr...\n",
       "3        Colleague;Friend or family member;Other online...\n",
       "4        Books / Physical media;Online Courses or Certi...\n",
       "                               ...                        \n",
       "89179    Online Courses or Certification;Other online r...\n",
       "89180    Colleague;Online Courses or Certification;Othe...\n",
       "89181    Books / Physical media;Hackathons (virtual or ...\n",
       "89182    Online Courses or Certification;Other online r...\n",
       "89183    Colleague;Online Courses or Certification;Othe...\n",
       "Name: LearnCode, Length: 89184, dtype: object"
      ]
     },
     "execution_count": 50,
     "metadata": {},
     "output_type": "execute_result"
    }
   ],
   "source": [
    "## Whats the most popular method of learning to code?\n",
    "df['LearnCode']"
   ]
  },
  {
   "cell_type": "code",
   "execution_count": 51,
   "id": "2314fd3d",
   "metadata": {},
   "outputs": [
    {
     "data": {
      "text/plain": [
       "790"
      ]
     },
     "execution_count": 51,
     "metadata": {},
     "output_type": "execute_result"
    }
   ],
   "source": [
    "df['LearnCode'].nunique()\n",
    "## there are 790 unique ways people learn how to code"
   ]
  },
  {
   "cell_type": "code",
   "execution_count": 54,
   "id": "bb5285f3",
   "metadata": {},
   "outputs": [
    {
     "data": {
      "text/plain": [
       "Other online resources (e.g., videos, blogs, forum)                                                                                                                                                             4873\n",
       "Books / Physical media;Other online resources (e.g., videos, blogs, forum)                                                                                                                                      3300\n",
       "Other online resources (e.g., videos, blogs, forum);School (i.e., University, College, etc)                                                                                                                     3070\n",
       "Books / Physical media;Online Courses or Certification;Other online resources (e.g., videos, blogs, forum)                                                                                                      3024\n",
       "Online Courses or Certification;Other online resources (e.g., videos, blogs, forum)                                                                                                                             2871\n",
       "                                                                                                                                                                                                                ... \n",
       "Colleague;Friend or family member;Hackathons (virtual or in-person);Other online resources (e.g., videos, blogs, forum);Coding Bootcamp                                                                            1\n",
       "Books / Physical media;Colleague;Hackathons (virtual or in-person);On the job training;Coding Bootcamp                                                                                                             1\n",
       "Books / Physical media;Hackathons (virtual or in-person);Online Courses or Certification;Other online resources (e.g., videos, blogs, forum);School (i.e., University, College, etc);Other (please specify):       1\n",
       "Books / Physical media;Friend or family member;Hackathons (virtual or in-person);On the job training;Other online resources (e.g., videos, blogs, forum);Coding Bootcamp;Other (please specify):                   1\n",
       "Colleague;Hackathons (virtual or in-person);Coding Bootcamp                                                                                                                                                        1\n",
       "Name: LearnCode, Length: 790, dtype: int64"
      ]
     },
     "execution_count": 54,
     "metadata": {},
     "output_type": "execute_result"
    }
   ],
   "source": [
    "Learn_code = df['LearnCode'].value_counts()\n",
    "Learn_code\n",
    "## Most people learn with online resources, followed by books and then formal educational resources"
   ]
  },
  {
   "cell_type": "code",
   "execution_count": 57,
   "id": "1f25a6a1",
   "metadata": {},
   "outputs": [
    {
     "data": {
      "text/plain": [
       "8"
      ]
     },
     "execution_count": 57,
     "metadata": {},
     "output_type": "execute_result"
    }
   ],
   "source": [
    "## Are you more likely to get a job if you have a masters?\n",
    "df['EdLevel'].nunique()"
   ]
  },
  {
   "cell_type": "code",
   "execution_count": 58,
   "id": "018bbc36",
   "metadata": {},
   "outputs": [
    {
     "data": {
      "text/plain": [
       "array([nan, 'Bachelor’s degree (B.A., B.S., B.Eng., etc.)',\n",
       "       'Some college/university study without earning a degree',\n",
       "       'Master’s degree (M.A., M.S., M.Eng., MBA, etc.)',\n",
       "       'Primary/elementary school',\n",
       "       'Professional degree (JD, MD, Ph.D, Ed.D, etc.)',\n",
       "       'Associate degree (A.A., A.S., etc.)',\n",
       "       'Secondary school (e.g. American high school, German Realschule or Gymnasium, etc.)',\n",
       "       'Something else'], dtype=object)"
      ]
     },
     "execution_count": 58,
     "metadata": {},
     "output_type": "execute_result"
    }
   ],
   "source": [
    "df['EdLevel'].unique()"
   ]
  },
  {
   "cell_type": "code",
   "execution_count": 61,
   "id": "96be6f40",
   "metadata": {},
   "outputs": [],
   "source": [
    "## classifying Ed level by masters and non-masters\n",
    "masters = df[df['EdLevel']=='Masters Degree']\n",
    "non_masters = df[df['EdLevel']!='Masters Degree']"
   ]
  },
  {
   "cell_type": "code",
   "execution_count": 73,
   "id": "b78c57ec",
   "metadata": {},
   "outputs": [
    {
     "data": {
      "text/plain": [
       "nan"
      ]
     },
     "execution_count": 73,
     "metadata": {},
     "output_type": "execute_result"
    }
   ],
   "source": [
    "## Getting employment rate mean for masters\n",
    "masters_emp_rate = (masters['Employment'] == 'Employed, full-time').mean()\n",
    "masters_emp_rate"
   ]
  },
  {
   "cell_type": "code",
   "execution_count": 74,
   "id": "d48f2bc7",
   "metadata": {},
   "outputs": [
    {
     "data": {
      "text/plain": [
       "nan"
      ]
     },
     "execution_count": 74,
     "metadata": {},
     "output_type": "execute_result"
    }
   ],
   "source": [
    "## Getting employment rate mean for non-masters\n",
    "non_masters_emp_rate = (masters['Employment'] == 'Employed, full-time').mean()\n",
    "non_masters_emp_rate"
   ]
  },
  {
   "cell_type": "code",
   "execution_count": 90,
   "id": "fc547d2e",
   "metadata": {},
   "outputs": [],
   "source": [
    "## Drop na values to get ratio of employment\n",
    "# Drop missing values to clean the dataset\n",
    "df = df.dropna(subset = ['EdLevel','Employment'])"
   ]
  },
  {
   "cell_type": "code",
   "execution_count": 91,
   "id": "6d427857",
   "metadata": {},
   "outputs": [
    {
     "name": "stdout",
     "output_type": "stream",
     "text": [
      "0\n",
      "0\n"
     ]
    }
   ],
   "source": [
    "print(df['EdLevel'].isna().sum())  # Count missing values in education level\n",
    "print(df['Employment'].isna().sum())  # Count missing values in employment status\n",
    "## no more na values in dataset"
   ]
  },
  {
   "cell_type": "code",
   "execution_count": 92,
   "id": "bb10a852",
   "metadata": {},
   "outputs": [],
   "source": [
    "masters = df[df['EdLevel'].str.contains('Master', case=False, na=False)]\n",
    "non_masters = df[~df['EdLevel'].str.contains('Master', case=False, na=False)]\n",
    "\n",
    "masters_employment_rate = (masters['Employment'].str.contains('Employed', case=False, na=False)).mean()\n",
    "non_masters_employment_rate = (non_masters['Employment'].str.contains('Employed', case=False, na=False)).mean()"
   ]
  },
  {
   "cell_type": "code",
   "execution_count": 98,
   "id": "110b6b77",
   "metadata": {},
   "outputs": [
    {
     "data": {
      "text/plain": [
       "96.8543046357616"
      ]
     },
     "execution_count": 98,
     "metadata": {},
     "output_type": "execute_result"
    }
   ],
   "source": [
    "masters_employment_rate *100"
   ]
  },
  {
   "cell_type": "code",
   "execution_count": 95,
   "id": "89e78989",
   "metadata": {},
   "outputs": [
    {
     "data": {
      "text/plain": [
       "87.07134586265254"
      ]
     },
     "execution_count": 95,
     "metadata": {},
     "output_type": "execute_result"
    }
   ],
   "source": [
    "non_masters_employment_rate *100"
   ]
  },
  {
   "cell_type": "code",
   "execution_count": 85,
   "id": "c845d469",
   "metadata": {},
   "outputs": [],
   "source": [
    "## We can say that more masters educated level people have higher levels\n",
    "## of full time employment, no correlation just ratios\n",
    "## around 97% of masters educated are employed\n",
    "## around 88% of non-masters educated are employed\n",
    "## Yay!"
   ]
  }
 ],
 "metadata": {
  "kernelspec": {
   "display_name": "Python 3 (ipykernel)",
   "language": "python",
   "name": "python3"
  },
  "language_info": {
   "codemirror_mode": {
    "name": "ipython",
    "version": 3
   },
   "file_extension": ".py",
   "mimetype": "text/x-python",
   "name": "python",
   "nbconvert_exporter": "python",
   "pygments_lexer": "ipython3",
   "version": "3.9.13"
  }
 },
 "nbformat": 4,
 "nbformat_minor": 5
}
